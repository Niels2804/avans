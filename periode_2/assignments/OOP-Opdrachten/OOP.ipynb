{
 "cells": [
  {
   "cell_type": "markdown",
   "metadata": {},
   "source": [
    "- [Object Oriented Programming](#object-oriented-programming)\n",
    "  - [De klasse](#de-klasse)\n",
    "  - [Verplichte velden](#verplichte-velden)\n",
    "  - [Methoden](#methoden)\n",
    "  - [Beschermen van functionaliteiten en data](#beschermen-van-functionaliteit-en-data)\n",
    "  - [Properties](#properties)\n",
    "  - [Nesten van Objecten](#nesten-van-objecten)\n",
    "  - [Het klassediagram](#het-klassediagram)\n",
    "  - [Geheugen van objecten](#geheugen-van-objecten)\n",
    "  - [Null](#null)\n",
    "  - [ToString](#tostring)\n",
    "  - [Property-initialisatie zonder constructor](#property-initialisatie-zonder-constructor)\n",
    "  - [Verkorte notatie van constructor](#andere-vorm-van-constructor)\n",
    "  - [Waarom nu klassen](#waarom-gebruiken-we-nu-klassen)\n",
    "  - [Voorbeelden](#voorbeelden)\n",
    "- [Interfaces en abstractie](#interfaces-en-abstractie)"
   ]
  },
  {
   "cell_type": "markdown",
   "metadata": {},
   "source": [
    "# Object Oriented Programming\n",
    "\n",
    "Een van de stijlen van programmeren die tegenwoordig veel gebruikt wordt is [Objectgeoriënteerd Programmeren](https://nl.wikipedia.org/wiki/Objectgeori%C3%ABnteerd) (OO). Dit is een paradigma binnen een programmeertaal rond het gebruik van klassen, objecten en verschillende principes die hierbij abstractie toe kunnen voegen. In dit document vind je eerst een stuk theorie over het gebruik van klassen en objecten en de verschillende constructies die je daarbij kunt gebruiken. Daarna staan een aantal voorbeelden hoe dit nu gebruikt kan worden met een uitwerking. Daarnaast zijn ook een aantal oefenopdrachten beschikbaar om zelf aan de slag te gaan in losse projecten. Deze projecten kun je in visual studio code openen, de opdracht staat steeds in een bestand bij de opdracht.\n",
    "\n",
    "## De klasse\n",
    "Tot nu toe hebben we geleerd te werken met de basisdatatypes binnen de programmeertaal, zoals `int`, `double` of `boolean`. Hiermee kunnen we gegevens opslaan in het geheugen van de computer, en kunnen we deze gegevens gebruiken in expressies om mee te rekenen of vergelijkingen te doen. Als we nu meer informatie hebben, kunnen we deze opslaan in bijvoorbeeld een `List<int>`, om een lijst van getallen op te slaan. \n",
    "\n",
    "Soms horen bepaalde gegevens echter ook bij elkaar. Zo hadden we bij het project Smart Energy een meting, waar bijvoorbeeld de datum en tijd van een meting in stond, de waarde van de meting, maar ook de prijs. Deze gegevens stonden gecombineerd in 1 lijst. Het combineren van gegevens komt vaak voor. Zo kunnen bijvoorbeeld de gegevens van een persoon gecombineerd worden, of de gegevens van een voertuig, een datum, een chatbericht enzovoorts. Het combineren van deze gegevens die bij elkaar horen kunnen we doen in een klasse"
   ]
  },
  {
   "cell_type": "code",
   "execution_count": null,
   "metadata": {
    "dotnet_interactive": {
     "language": "csharp"
    },
    "polyglot_notebook": {
     "kernelName": "csharp"
    }
   },
   "outputs": [],
   "source": [
    "class Person\n",
    "{\n",
    "    public string Name;\n",
    "    public int Id;\n",
    "}"
   ]
  },
  {
   "cell_type": "markdown",
   "metadata": {},
   "source": [
    "Een [`class`](https://learn.microsoft.com/en-us/dotnet/csharp/fundamentals/tutorials/classes), of *klasse*, is eigenlijk een soort blouwdruk voor een nieuw gegevenstype binnen je programmeertaal. Van deze blauwdruk kunnen hierna verschillende **instanties** gemaakt worden, die allemaal verschillende informatie bevatten. Deze instanties noemen we ook wel **object**en. Een object is dus een concrete versie van een klasse, en alle objecten die op dezelfde klasse zijn gebaseerd, hebben hierdoor dus ook dezelfde eigenschappen. Als je een klasse `Person` hebt en een klasse `ChatMessage`, hebben de objecten van deze verschillende klassen dus ook verschillende eigenschappen en kunnen niet door elkaar gebruikt worden.\n",
    "\n",
    "De eigenschappen van de objecten, noemen we `velden` (fields). In andere programmeertalen heten ze ook wel `attributen`, maar in c# is een attribute een ander concept. Deze velden hebben een **toegangsniveau** (voor nu public, hier gaan we later dieper op in),  **datatype** (`string` en `int` in bovenstaande voorbeeld), en een **naam**. Je kunt ze ook een standaard waarde geven, hier gaan we later verder op in.  \n",
    "Deze velden zijn dynamische eigenschappen, die van object tot object kunnen verschillen. Zo heeft het niet veel nut om bij een klasse `Person` een veld te maken om aan te geven of iemand een mens is of niet, omdat alle personen mens zijn. Het is per toepassing dus ook belangrijk om de velden te bepalen, en wat deze velden bevatten. Als je een winkel voor lampen gaat maken, kun je bijvoorbeeld een klasse `Lamp` hebben met eigenschappen als `IsLed`, `Fitting` of `PowerUse`. Als je een robot maakt met lampjes erop, wil je vooral bijhouden of een lamp aan of uit staat, dus heeft een klasse `Lamp` dan een veld `Enabled` om aan te geven of 'n lamp aan of uit staat. Dit bedenken van de velden van een klasse noemen we ook wel het **modelleren** van een klasse, en dit doen we meestal met een UML-diagram.\n",
    "\n",
    "Om een object aan te maken, gebruiken we het `new` keyword. Met `new` kunnen we een nieuw object aanmaken, en dit object stoppen we in een variabele met het type van de klasse"
   ]
  },
  {
   "cell_type": "code",
   "execution_count": null,
   "metadata": {
    "dotnet_interactive": {
     "language": "csharp"
    },
    "polyglot_notebook": {
     "kernelName": "csharp"
    }
   },
   "outputs": [],
   "source": [
    "Person ruud = new Person();\n",
    "Person pascal = new Person();\n",
    "Person johan = new Person();\n",
    "Person jessica = new Person();"
   ]
  },
  {
   "cell_type": "markdown",
   "metadata": {},
   "source": [
    "In bovenstaande code maken we dus 4 objecten aan, met variabelenamen `ruud`, `pascal`, `johan` en `jessica`. Deze variabelenamen mag je, net zoals alle andere variabelen, zelf een naam geven. Vaak als in een stuk code maar 1 object aangemaakt word, word dezelfde naam als de klasse gebruikt\n",
    "```cs\n",
    "Person person = new Person();\n",
    "```\n",
    "let hierbij op het hoofdlettergebruik! de variabelenaam begint met een kleine letter, de klasse met een hoofdletter. De objecten in het voorbeeld hierboven worden nu aangemaakt, in variabelen gezet, maar er gebeurt verder nog niets met de objecten. Binnen de objecten, hebben we de 2 verschillende velden die we eerder gedefinieerd hebben. Deze kunnen we nu gebruiken om te lezen en schrijven, net zoals andere variabelen. Deze velden zijn te gebruiken door de naam van het **object** te gebruiken en daarna de naam van het veld te zetten, gescheiden door een punt."
   ]
  },
  {
   "cell_type": "code",
   "execution_count": null,
   "metadata": {
    "dotnet_interactive": {
     "language": "csharp"
    },
    "polyglot_notebook": {
     "kernelName": "csharp"
    }
   },
   "outputs": [],
   "source": [
    "ruud.Name = \"Ruud\";\n",
    "ruud.Id = 1;\n",
    "pascal.Name = \"Pascal\";\n",
    "johan.Name = \"Johan\";\n",
    "jessica.Name = \"Jessica\";\n",
    "Console.WriteLine($\"{ruud.Id} -> {ruud.Name}\");\n",
    "Console.WriteLine(pascal.Name);"
   ]
  },
  {
   "cell_type": "markdown",
   "metadata": {},
   "source": [
    "Op deze manier kunnen we dus onze data netjes bij elkaar houden, en zijn het `Id` en de `Name` aan elkaar gekoppeld. Ook kunnen we deze data in een lijst zetten"
   ]
  },
  {
   "cell_type": "code",
   "execution_count": null,
   "metadata": {
    "dotnet_interactive": {
     "language": "csharp"
    },
    "polyglot_notebook": {
     "kernelName": "csharp"
    }
   },
   "outputs": [],
   "source": [
    "List<Person> people = new List<Person>();\n",
    "people.Add(ruud);\n",
    "people.Add(pascal);\n",
    "people.Add(johan);\n",
    "people.Add(jessica);"
   ]
  },
  {
   "cell_type": "markdown",
   "metadata": {},
   "source": [
    "Deze lijst kunnen we daarna gemakkelijk doorlopen met een foreach lus, om ieder object te benaderen in deze lijst en hier acties mee uit te voeren."
   ]
  },
  {
   "cell_type": "code",
   "execution_count": null,
   "metadata": {
    "dotnet_interactive": {
     "language": "csharp"
    },
    "polyglot_notebook": {
     "kernelName": "csharp"
    }
   },
   "outputs": [],
   "source": [
    "foreach(Person person in people)\n",
    "{\n",
    "    Console.WriteLine($\"{person.Id}: {person.Name}\");\n",
    "}"
   ]
  },
  {
   "cell_type": "markdown",
   "metadata": {},
   "source": [
    "## Verplichte velden\n",
    "\n",
    "Soms is het logisch om verplichte velden te hebben in een object. Een persoon heeft eigenlijk altijd wel een naam (en in ons voorbeeld ook altijd een Id). Deze waarden kunnen in een **Constructor** instellen. De constructor is een speciale methode die aangeroepen word bij het aanmaken van het object, zodra de `new` aangeroepen word. De constructor maken we ook als een methode, in de `Person` klasse"
   ]
  },
  {
   "cell_type": "code",
   "execution_count": null,
   "metadata": {
    "dotnet_interactive": {
     "language": "csharp"
    },
    "polyglot_notebook": {
     "kernelName": "csharp"
    }
   },
   "outputs": [],
   "source": [
    "class Person\n",
    "{\n",
    "    public string Name;\n",
    "    public int Id;\n",
    "\n",
    "    public Person(string name, int id)\n",
    "    {\n",
    "        this.Name = name;\n",
    "        this.Id = id;\n",
    "    }\n",
    "}"
   ]
  },
  {
   "cell_type": "markdown",
   "metadata": {},
   "source": [
    "In dit voorbeeld is er 1 constructor gemaakt, die 2 parameters gebruikt. Deze 2 parameters worden meteen in de velden gezet. Als je in een klasse aan het werk bent, kun je `this` gebruiken om te refereren naar de velden binnen dit object. Bij het uitvoeren van code is er een object gemaakt met new, en zijn de velden Name en Id dus ook de velden die bij dat object horen, en is `this` dus eigenlijk gelijk aan bijvoorbeeld `ruud` of `pascal` in de code hierboven. In bovenstaande voorbeeld is `this` eigenlijk ook optioneel, je kunt ook `Name = name;` gebruiken, maar in de voorbeelden proberen we altijd `this` te gebruiken om 100% duidelijk te maken dat het een veld is.\n",
    "\n",
    "De constructor heeft **altijd** dezelfde naam als de klasse, geen return type (dus staat geen void voor), en kan parameters hebben, maar hoeft dat niet.\n",
    "\n",
    "```cs\n",
    "   public void Person() {} // dit is geen goede constructor\n",
    "   public Person BuildPerson() {} // dit is een methode, geen constructor\n",
    "   public Person { } // dit is geen constructor, er moeten haakjes bij\n",
    "   public Person() {} // dit is wel een valide constructor, een zonder parameters\n",
    "```\n",
    "\n",
    "Het is mogelijk om meerdere constructors te hebben, om bijvoorbeeld standaard waarden invullen."
   ]
  },
  {
   "cell_type": "code",
   "execution_count": null,
   "metadata": {
    "dotnet_interactive": {
     "language": "csharp"
    },
    "polyglot_notebook": {
     "kernelName": "csharp"
    }
   },
   "outputs": [],
   "source": [
    "class Person\n",
    "{\n",
    "    public string Name;\n",
    "    public int Id;\n",
    "\n",
    "    public Person(string name, int id)\n",
    "    {\n",
    "        this.Name = name;\n",
    "        this.Id = id;\n",
    "    }\n",
    "    public Person(string name)\n",
    "    {\n",
    "        this.Name = name;\n",
    "        this.Id = -1;\n",
    "    }\n",
    "}"
   ]
  },
  {
   "cell_type": "markdown",
   "metadata": {},
   "source": [
    "Nu hebben we een klasse Person, die op 2 manieren aangemaakt kan worden. C# zal automatisch, op basis van de hoeveelheid parameters en de types van de parameters van de constructor de juiste constructor kiezen als je deze aanroept. Het aanroepen van de constructor gebeurt met new"
   ]
  },
  {
   "cell_type": "code",
   "execution_count": null,
   "metadata": {
    "dotnet_interactive": {
     "language": "csharp"
    },
    "polyglot_notebook": {
     "kernelName": "csharp"
    }
   },
   "outputs": [],
   "source": [
    "Person ruud = new Person(\"Ruud\", 1);\n",
    "Person pascal = new Person(\"Pascal\", 2);\n",
    "Person johan = new Person(\"Johan\");\n",
    "Person jessica = new Person(\"Jessica\");\n",
    "\n",
    "List<Person> people = new List<Person>();\n",
    "people.Add(ruud);\n",
    "people.Add(pascal);\n",
    "people.Add(johan);\n",
    "people.Add(jessica);\n",
    "\n",
    "foreach(var person in people)\n",
    "{\n",
    "    Console.WriteLine($\"{person.Id} -> {person.Name}\");\n",
    "}"
   ]
  },
  {
   "cell_type": "markdown",
   "metadata": {},
   "source": [
    "Door gebruik van de constructor kun je dus afdwingen dat bepaalde velden ingevuld moeten zijn, standaard waarden invoeren, maar het maakt ook het aanmaken van een object gemakkelijker.\n",
    "\n",
    "Naast de constructor, is er nog een andere manier om standaard waarden in een veld te zetten, door deze er direct achter te zetten. De standaardwaarden die achter een veld staan, zullen altijd gezet worden, ongeacht welke constructor aangeroepen word. Ze worden voor de constructor uitgevoerd word op de standaardwaarde gezet, zodat de constructor ze daarna nog kan overschrijven\n"
   ]
  },
  {
   "cell_type": "code",
   "execution_count": null,
   "metadata": {
    "dotnet_interactive": {
     "language": "csharp"
    },
    "polyglot_notebook": {
     "kernelName": "csharp"
    }
   },
   "outputs": [],
   "source": [
    "class Person\n",
    "{\n",
    "    public string Name;\n",
    "    public int Id = -1;\n",
    "\n",
    "    public Person(string name, int id)\n",
    "    {\n",
    "        this.Name = name;\n",
    "        this.Id = id;\n",
    "    }\n",
    "    public Person(string name)\n",
    "    {\n",
    "        this.Name = name;\n",
    "    }\n",
    "}"
   ]
  },
  {
   "cell_type": "markdown",
   "metadata": {},
   "source": [
    "## Methoden\n",
    "\n",
    "Vaak is het ook erg nuttig om functionaliteit aan objecten te koppelen. Dit kunnen we bijvoorbeeld doen met een lamp. Een lamp in een robot kan bijvoorbeeld aan- of uitgezet worden. Dit kunnen we niet doen door een veld te veranderen, maar we zullen ook echt code moeten uitvoeren. We hebben in dit notebook natuurlijk geen robot verbonden met lampjes, dus we zullen dit doen met Console.WriteLines, maar dit kan natuurlijk iedere code zijn. De code in een methode kan, net zoals we hiervoor hebben geleerd, lokale variabelen aanmaken, maar kan ook de velden van een object aanpassen. \n",
    "\n",
    "> **De methode word dus altijd uitgevoerd in context van een object**\n",
    "\n",
    "Een voorbeeld:"
   ]
  },
  {
   "cell_type": "code",
   "execution_count": null,
   "metadata": {
    "dotnet_interactive": {
     "language": "csharp"
    },
    "polyglot_notebook": {
     "kernelName": "csharp"
    }
   },
   "outputs": [],
   "source": [
    "class Lamp\n",
    "{\n",
    "    public bool Enabled = false;\n",
    "\n",
    "    public void TurnOn()\n",
    "    {\n",
    "        if(!this.Enabled)\n",
    "        {\n",
    "            this.Enabled = true;\n",
    "            Console.WriteLine(\"De lamp is nu aangezet\");\n",
    "        }\n",
    "    }\n",
    "    public void TurnOff()\n",
    "    {\n",
    "        if(this.Enabled)\n",
    "        {\n",
    "            this.Enabled = false;\n",
    "            Console.WriteLine(\"De lamp is nu uitgezet\");\n",
    "        }\n",
    "    }\n",
    "}\n",
    "\n",
    "Lamp statusLamp = new Lamp();\n",
    "Lamp powerLamp = new Lamp();\n",
    "\n",
    "Console.WriteLine($\"Status -> {statusLamp.Enabled}, power -> {powerLamp.Enabled}\");\n",
    "statusLamp.TurnOn();\n",
    "Console.WriteLine($\"Status -> {statusLamp.Enabled}, power -> {powerLamp.Enabled}\");\n",
    "powerLamp.TurnOn();\n",
    "Console.WriteLine($\"Status -> {statusLamp.Enabled}, power -> {powerLamp.Enabled}\");\n",
    "statusLamp.TurnOff();\n",
    "Console.WriteLine($\"Status -> {statusLamp.Enabled}, power -> {powerLamp.Enabled}\");"
   ]
  },
  {
   "cell_type": "markdown",
   "metadata": {},
   "source": [
    "Zo is te zien dat de code van de 2 lampen op hun eigen object uitgevoerd is, in hun eigen context (met de eigen velden). Deze methoden zijn vergelijkbaar met de methoden die je eerder hebt geleerd, maar je kunt nu ook de velden gebruiken. Daarnaast kun je ook gewoon een waarde returnen, parameters gebruiken, en algoritmes in de methodes plaatsen."
   ]
  },
  {
   "cell_type": "markdown",
   "metadata": {},
   "source": [
    "## Beschermen van functionaliteit en data\n",
    "\n",
    "Op dit moment zijn alle methodes `public` gemaakt. Alle velden die `public` zijn, kunnen bekeken en veranderd worden. Alle methoden die `public` zijn kunnen aangeroepen worden. DIt is in het algemeen geen goed idee. In het voorbeeld van de Lamp hierboven, is het mogelijk om een lamp te hebben waarbij het veld Enabled op false staat, zonder dat code om de lamp daadwerkelijk uit te zetten is aangeroepen"
   ]
  },
  {
   "cell_type": "code",
   "execution_count": null,
   "metadata": {
    "dotnet_interactive": {
     "language": "csharp"
    },
    "polyglot_notebook": {
     "kernelName": "csharp"
    }
   },
   "outputs": [],
   "source": [
    "Lamp lamp = new Lamp();\n",
    "lamp.TurnOn();\n",
    "lamp.Enabled = false; // we willen dit voorkomen\n",
    "Console.WriteLine($\"De lamp is nu Enabled: {lamp.Enabled}\");"
   ]
  },
  {
   "cell_type": "markdown",
   "metadata": {},
   "source": [
    "Om dit te voorkomen, is het gebruikelijk om alle velden met `private` te markeren. Als iets `private` is gemarkeerd, mag het niet aangeroepen worden vanuit buiten de klasse"
   ]
  },
  {
   "cell_type": "code",
   "execution_count": null,
   "metadata": {
    "dotnet_interactive": {
     "language": "csharp"
    },
    "polyglot_notebook": {
     "kernelName": "csharp"
    }
   },
   "outputs": [],
   "source": [
    "class Lamp\n",
    "{\n",
    "    private bool Enabled;\n",
    "    public Lamp()\n",
    "    {\n",
    "        this.Enabled = false; // begin de lamp uit\n",
    "    }\n",
    "\n",
    "    public void TurnOn()\n",
    "    {\n",
    "        this.Enabled = true;\n",
    "        Console.WriteLine(\"De lamp is nu aangezet\");\n",
    "    }\n",
    "    public void TurnOff()\n",
    "    {\n",
    "        this.Enabled = false;\n",
    "        Console.WriteLine(\"De lamp is nu uitgezet\");\n",
    "    }\n",
    "}"
   ]
  },
  {
   "cell_type": "code",
   "execution_count": null,
   "metadata": {
    "dotnet_interactive": {
     "language": "csharp"
    },
    "polyglot_notebook": {
     "kernelName": "csharp"
    }
   },
   "outputs": [],
   "source": [
    "Lamp lamp = new Lamp();\n",
    "lamp.TurnOn();\n",
    "lamp.Enabled = false; // we willen dit voorkomen\n",
    "Console.WriteLine($\"De lamp is nu Enabled: {lamp.Enabled}\"); // dit mag nu ook niet meer!"
   ]
  },
  {
   "cell_type": "markdown",
   "metadata": {},
   "source": [
    "Op deze manier zijn de velden beschermd tegen veranderingen van buitenaf, en kan een klasse zijn functionaliteit beter garanderen. De lamp is immers alleen aan te zetten met de 2 methoden."
   ]
  },
  {
   "cell_type": "markdown",
   "metadata": {},
   "source": [
    "## Properties\n",
    "\n",
    "In het voorbeeld hierboven hebben we nu echter wel een probleem... Het is wel wenselijk om het `Enabled` uit te kunnen lezen, maar we willen deze niet kunnen aanpassen. Hier is in C# het concept `properties` voor gemaakt. Een property is vergelijkbaar met een veld, maar kunnen we nu instellen of het veranderen van een variabele wel mag. Ook is het zelfs mogelijk om code achter het `set`ten en het `get`ten te zetten, als een soort methode. Allereerst een property zonder code. Dit is een [Automatically implemented property](https://learn.microsoft.com/en-us/dotnet/csharp/programming-guide/classes-and-structs/properties#automatically-implemented-properties)"
   ]
  },
  {
   "cell_type": "code",
   "execution_count": null,
   "metadata": {
    "dotnet_interactive": {
     "language": "csharp"
    },
    "polyglot_notebook": {
     "kernelName": "csharp"
    }
   },
   "outputs": [],
   "source": [
    "class Lamp\n",
    "{\n",
    "    public bool Enabled { get; private set; }\n",
    "    public Lamp()\n",
    "    {\n",
    "        this.Enabled = false; // begin de lamp uit\n",
    "    }\n",
    "\n",
    "    public void TurnOn()\n",
    "    {\n",
    "        this.Enabled = true;\n",
    "        Console.WriteLine(\"De lamp is nu aangezet\");\n",
    "    }\n",
    "    public void TurnOff()\n",
    "    {\n",
    "        this.Enabled = false;\n",
    "        Console.WriteLine(\"De lamp is nu uitgezet\");\n",
    "    }\n",
    "}\n",
    "\n",
    "Lamp lamp = new Lamp();\n",
    "lamp.TurnOn();\n",
    "//lamp.Enabled = false; // dit mag nog steeds niet\n",
    "Console.WriteLine($\"De lamp is nu Enabled: {lamp.Enabled}\"); // maar dit mag nu wel!"
   ]
  },
  {
   "cell_type": "markdown",
   "metadata": {},
   "source": [
    "Met een automatically implemented property is het dus gemakkelijk om een veld vanaf buiten de klasse read-only te maken. Het veld kan niet meer aangepast worden van buiten de klasse, maar wel van binnen de klasse. Het is ook mogelijk om een property volledig publiek te maken, door `private set` te vervangen door `set`"
   ]
  },
  {
   "cell_type": "markdown",
   "metadata": {},
   "source": [
    "### Field-backed Properties\n",
    "\n",
    "Het is daarnaast mogelijk om code aan een property te koppelen. Deze code kan bijvoorbeeld gebruikt worden om te kijken of de nieuwe waarde wel een geldige waarde is, of om een waarde om te zetten naar een makkelijker op te slaan formaat. Je kunt een get-property maken en/of een set-property. Je hoeft ze dus niet allebei te implementeren, maar dit kan wel. Daarnaast heb je hiernaast nog wel een veld nodig om de waarde van de property op te slaan"
   ]
  },
  {
   "cell_type": "code",
   "execution_count": null,
   "metadata": {
    "dotnet_interactive": {
     "language": "csharp"
    },
    "polyglot_notebook": {
     "kernelName": "csharp"
    }
   },
   "outputs": [],
   "source": [
    "class Person\n",
    "{\n",
    "    public string Name { get; set; }\n",
    "    private int _age; //field _age\n",
    "    public int Age //property Age stores its data inside _age\n",
    "    {\n",
    "        get\n",
    "        {\n",
    "            return this._age;\n",
    "        }\n",
    "        set\n",
    "        {\n",
    "            if(value < 0 || value > 150)\n",
    "            {\n",
    "                Console.WriteLine($\"De waarde {value} is ongeldig voor leeftijd\");\n",
    "            }\n",
    "            else\n",
    "            {\n",
    "                this._age = value;\n",
    "            }\n",
    "        }\n",
    "    }\n",
    "}\n",
    "\n",
    "Person person = new Person();\n",
    "person.Age = 10; // prima\n",
    "person.Age = -10; // zal niet opslaan\n",
    "person.Age = 200; // zal niet opslaan\n",
    "Console.WriteLine(person.Age);\n",
    "//Console.WriteLine(person._age); //mag niet omdat _age private is"
   ]
  },
  {
   "cell_type": "markdown",
   "metadata": {},
   "source": [
    "De meeste C# developers gebruiken properties in plaats van velden voor het opslaan van gegevens. Hierbij kun je eigenlijk standaard beginnen met een auto-generated property, en is het daarna altijd zonder moeite mogelijk om hier een implementatie bij te zetten, die bijvoorbeeld controles doet. Gebruik dus standaard properties (die mogen ook `public` zijn), en liever geen velden (die altijd `private` zouden moeten zijn)"
   ]
  },
  {
   "cell_type": "markdown",
   "metadata": {},
   "source": [
    "## Nesten van objecten\n",
    "\n",
    "Een kan verschillende informatie opslaan, maar het is ook mogelijk om een veld te maken met een klasse als datatype! Zo kun je dus complexere datastructuren maken, waarbij je de datastructuur en functionaliteiten gemakkelijk kunt herbruiken. Dit kan natuurlijk ook gecombineerd worden met lijsten om complexe situaties te maken en te berekenen"
   ]
  },
  {
   "cell_type": "code",
   "execution_count": null,
   "metadata": {
    "dotnet_interactive": {
     "language": "csharp"
    },
    "polyglot_notebook": {
     "kernelName": "csharp"
    }
   },
   "outputs": [],
   "source": [
    "class Person\n",
    "{\n",
    "    public string Name { get; set; }\n",
    "    public int Id { get; set; }\n",
    "    public Person(string name)\n",
    "    {\n",
    "        this.Name = name;\n",
    "    }\n",
    "}\n",
    "\n",
    "class AquiredGrade\n",
    "{\n",
    "    public Person Person { get; set; }\n",
    "    public double Grade { get; set; }\n",
    "    public AquiredGrade(Person person, double grade)\n",
    "    {\n",
    "        this.Person = person;\n",
    "        this.Grade = grade;\n",
    "    }\n",
    "}\n",
    "\n",
    "class Group\n",
    "{\n",
    "    public Person Teacher;\n",
    "    public List<Person> Students = new List<Person>();\n",
    "    public List<AquiredGrade> Grades = new List<AquiredGrade>();\n",
    "\n",
    "    public void AddGrade(string name, double grade)\n",
    "    {\n",
    "        //We willen de Person-objecten herbruiken, dus we zoeken 'm op in de lijst met studenten\n",
    "        foreach(var student in this.Students)\n",
    "        {\n",
    "            if(student.Name == name)\n",
    "            {\n",
    "                Grades.Add(new AquiredGrade(student, grade));\n",
    "            }\n",
    "        }\n",
    "    }\n",
    "\n",
    "    public double AverageGrade()\n",
    "    {\n",
    "        double sum = 0;\n",
    "        foreach(var grade in this.Grades)\n",
    "        {\n",
    "            sum += grade.Grade;\n",
    "        }\n",
    "        return sum / this.Grades.Count;\n",
    "    }\n",
    "}\n",
    "\n",
    "Group a = new Group();\n",
    "a.Teacher = new Person(\"Jan-Hendrik Hendriks op Weteringe\");\n",
    "a.Students.Add(new Person(\"Joep Haller\"));\n",
    "a.Students.Add(new Person(\"Joeri Geijtenbeek\"));\n",
    "a.Students.Add(new Person(\"Aart Buit\"));\n",
    "a.Students.Add(new Person(\"Willem Kool\"));\n",
    "\n",
    "a.AddGrade(\"Joep Haller\", 7);\n",
    "a.AddGrade(\"Joeri Geijtenbeek\", 8);\n",
    "a.AddGrade(\"Aart Buit\", 5);\n",
    "\n",
    "\n",
    "Console.WriteLine($\"Het gemiddelde is {a.AverageGrade()}\");"
   ]
  },
  {
   "cell_type": "markdown",
   "metadata": {},
   "source": [
    "Zodra we meerdere klassen gaan combineren, kunnen we dit voorstellen in een klassediagram. \n",
    "\n",
    "## Het klassediagram\n",
    "\n",
    "Een **klassendiagram** is een soort schema dat je helpt om een programma te ontwerpen en te begrijpen. Het laat zien hoe klassen zijn opgebouwd en hoe ze met elkaar samenwerken. Klassendiagrammen worden vaak gebruikt om een idee te krijgen van hoe je een programma gaat maken. In dit document staat een stukje van de basis van klassediagrammen beschreven, omdat er bij de voorbeelden ook klassediagrammen gegeven staan, zodat je de link tussen de code en de klassediagrammen kunt maken. Je krijgt hier ook andere lessen over die hier uitgebreider op in zullen gaan\n",
    "\n",
    "In een **klassendiagram** kun je zien:\n",
    "1. **De naam van de klasse**: Hoe de klasse heet.\n",
    "2. **Eigenschappen (ook wel velden genoemd)**: De gegevens die de klasse opslaat.\n",
    "3. **Methoden**: De acties die de klasse kan uitvoeren.\n",
    "4. **Relaties tussen klassen**: Hoe verschillende klassen met elkaar verbonden zijn.\n",
    "\n",
    "### Hoe ziet een klassendiagram eruit?\n",
    "In een klassendiagram staan een of meerdere klassen beschreven. Een klasse binnen een klassendiagram ziet eruit als een op een tabel met drie delen:\n",
    "- Bovenaan staat de naam van de klasse.\n",
    "- In het midden staan de eigenschappen (de data van de klasse).\n",
    "- Onderin staan de methoden (de acties van de klasse).\n",
    "\n",
    "Voorbeeld:\n",
    "```mermaid\n",
    "classDiagram\n",
    "class Car {\n",
    "    string Brand\n",
    "    string Model\n",
    "    void Start()\n",
    "}\n",
    "```\n",
    "\n",
    "Dit betekent:\n",
    "- Er is een klasse `Car`.\n",
    "- De `Car` heeft twee velden: `Brand` en `Model`, beide van het type `string` (tekst).\n",
    "- De `Car` heeft één methode: `Start()`, die geen gegevens teruggeeft (`void`).\n",
    "\n",
    "Er zijn verschillende tools om klassediagrammen te tekenen, die allemaal net andere resultaten geven. Sommige ronden de hoekjes net wat mooier af, of gebruiken bepaalde kleuren. Er zijn natuurlijk wel algemene regels wat symbolen in een klassediagram betekenen\n",
    "\n",
    "### **Hoe vertaal je een klassendiagram naar C#-code?**\n",
    "Als je een klassendiagram hebt, kun je dit omzetten in C#-code. Het voorbeeld van hierboven zou er zo uitzien:\n",
    "\n",
    "```csharp\n",
    "class Car\n",
    "{\n",
    "    public string Brand { get; set; }\n",
    "    public string Model { get; set; }\n",
    "\n",
    "    public void Start()\n",
    "    {\n",
    "        Console.WriteLine($\"{Brand} {Model} is gestart!\");\n",
    "    }\n",
    "}\n",
    "```\n",
    "\n",
    "Je ziet in het klassediagram dus wel de velden en methoden van een klasse, maar niet de code die in een methode komt te staan\n",
    "\n",
    "### Relaties tussen klassen\n",
    "Soms werken klassen samen. Een klassendiagram kan ook laten zien hoe dat gebeurt door een pijl te zetten van de ene klasse naar de andere klasse. Hier zijn een paar voorbeelden:\n",
    "\n",
    "1. **Associatie**: Dit betekent dat een klasse een andere klasse gebruikt.  \n",
    "   Klassendiagram: Een `Garage` bevat een `Car`.\n",
    "   ```csharp\n",
    "   class Garage\n",
    "   {\n",
    "       public Car CarInGarage { get; set; }\n",
    "   }\n",
    "   ```\n",
    "\n",
    "2. **Compositie**: Dit betekent dat een klasse onderdelen bevat die niet los kunnen bestaan.  \n",
    "   Klassendiagram: Een `Car` heeft een `Motor`.\n",
    "   ```csharp\n",
    "   class Motor\n",
    "   {\n",
    "       public int Power { get; set; }\n",
    "   }\n",
    "\n",
    "   class Car\n",
    "   {\n",
    "       public Motor Motor { get; set; }\n",
    "   }\n",
    "   ```\n",
    "\n",
    "Als we dit nu samenvatten voor het voorbeeld hierboven over Person, AquiredGrade en Group, krijgen we een volgende klassediagram (zonder de methoden)\n",
    "\n",
    "```mermaid\n",
    "classDiagram\n",
    "direction LR:\n",
    "class Person {\n",
    "    string Name\n",
    "    int Id\n",
    "}\n",
    "\n",
    "class AquiredGrade {\n",
    "    double Grade\n",
    "}\n",
    "\n",
    "class Group\n",
    "\n",
    "Group \"*\" --> \"*\" Person : Students\n",
    "Group \"*\" --> \"1\" Person : Teacher\n",
    "Group \"1\" --> \"*\" AquiredGrade : Grades\n",
    "AquiredGrade \"1\" --> \"*\" Person : Person\n",
    "\n",
    "```"
   ]
  },
  {
   "cell_type": "markdown",
   "metadata": {},
   "source": [
    "## Geheugen van objecten\n",
    "\n",
    "In bovenstaande voorbeeld lopen we tegen de eerste keer aan dat we met geheugenlayout te maken hebben. Als je 2 objecten aanmaakt, met dezelfde waarden erin, zijn dit nog steeds 2 objecten. Dit is niet altijd wenselijk (meestal zelfs niet wenselijk), en daarom word er in de `AddGrade` methode door de lijst van studenten gezocht (op naam), en worden die objecten toegevoegd aan een nieuw `AquiredGrade` object. Hierdoor is het object in de `AquiredGrade`, hetzelfde object als in de lijst met studenten, en als je bij een van de studenten iets veranderd (zoals de naam), veranderd die ook bij de grades"
   ]
  },
  {
   "cell_type": "code",
   "execution_count": null,
   "metadata": {
    "dotnet_interactive": {
     "language": "csharp"
    },
    "polyglot_notebook": {
     "kernelName": "csharp"
    }
   },
   "outputs": [],
   "source": [
    "foreach(AquiredGrade grade in a.Grades)\n",
    "    Console.WriteLine($\"{grade.Person.Name} heeft een {grade.Grade}\");\n",
    "\n",
    "a.Students[0].Name = \"Nout Overesch\";\n",
    "\n",
    "foreach(AquiredGrade grade in a.Grades)\n",
    "    Console.WriteLine($\"{grade.Person.Name} heeft een {grade.Grade}\");"
   ]
  },
  {
   "cell_type": "markdown",
   "metadata": {},
   "source": [
    "Je ziet dat hier als het object in de students lijst aangepast word, deze ook in de grades-lijst aangepast is. Dit zorgt er dus voor dat je data consistent in het geheugen blijft staan, en studenten maar 1 keer aangepast hoeven te worden. Door je ontwerp op een goede manier te doen, is het hierdoor mogelijk om met weinig code een stukje data in je applicatie aan te passen. Dit geld overigens ook bij het gebruik in methodes. In onderstaande code zie je hier een voorbeeld van, de code in de `Rename`-methode kan de inhoud van een veld van person aanpassen, of methodes aanroepen van de klasse `Person` die dit doen."
   ]
  },
  {
   "cell_type": "code",
   "execution_count": null,
   "metadata": {
    "dotnet_interactive": {
     "language": "csharp"
    },
    "polyglot_notebook": {
     "kernelName": "csharp"
    }
   },
   "outputs": [],
   "source": [
    "void Rename(Person person)\n",
    "{\n",
    "    person.Name = person.Name + \" \" + person.Name;\n",
    "}\n",
    "\n",
    "Person person = new Person(\"Johan\");\n",
    "Rename(person);\n",
    "Console.WriteLine(person.Name);"
   ]
  },
  {
   "cell_type": "markdown",
   "metadata": {},
   "source": [
    "Dit kan dus anders 'aanvoelen' dan hoe het werkt met primaire datatypes (als je een variabele aanpast binnen een methode, veranderd deze niet buiten de methode), maar een object-variabele is een verwijzing naar een object, en er kunnen meer variabelen verwijzen naar hetzelfde object. Als er iets binnen het object aangepast word, veranderd dit op alle plekken waar naar dit object verwezen word. Wat niet gaat werken is het veranderen van de variabele"
   ]
  },
  {
   "cell_type": "code",
   "execution_count": null,
   "metadata": {
    "dotnet_interactive": {
     "language": "csharp"
    },
    "polyglot_notebook": {
     "kernelName": "csharp"
    }
   },
   "outputs": [],
   "source": [
    "void Rename(Person person)\n",
    "{\n",
    "    person = new Person(person.Name + \" \" + person.Name);\n",
    "}\n",
    "\n",
    "Person person = new Person(\"Johan\");\n",
    "Rename(person);\n",
    "Console.WriteLine(person.Name);"
   ]
  },
  {
   "cell_type": "markdown",
   "metadata": {},
   "source": [
    "## Null\n",
    "\n",
    "Soms kan het voorkomen dat een object-variabele nog geen waarde heeft. Dit noemen we een `null`-waarde, en dit is ook de standaard-waarde van een object"
   ]
  },
  {
   "cell_type": "code",
   "execution_count": null,
   "metadata": {
    "dotnet_interactive": {
     "language": "csharp"
    },
    "polyglot_notebook": {
     "kernelName": "csharp"
    }
   },
   "outputs": [],
   "source": [
    "Person person = null;\n",
    "Person person2;\n",
    "Console.WriteLine(person);\n",
    "Console.WriteLine(person2);\n"
   ]
  },
  {
   "cell_type": "markdown",
   "metadata": {},
   "source": [
    "Deze null-warden zijn belangrijk om rekening mee te houden, omdat het een uitzonderings-waarde is, er zit namelijk nog niets in de variabele. Dit betekent ook dat van zo'n object geen methode aangeroepen mag worden. Als je dit wel doet, zul je een foutmelding krijgen, de `NullReferenceException`"
   ]
  },
  {
   "cell_type": "code",
   "execution_count": null,
   "metadata": {
    "dotnet_interactive": {
     "language": "csharp"
    },
    "polyglot_notebook": {
     "kernelName": "csharp"
    }
   },
   "outputs": [],
   "source": [
    "Person person = null;\n",
    "Console.WriteLine(person.Name);"
   ]
  },
  {
   "cell_type": "markdown",
   "metadata": {},
   "source": [
    "Deze foutmelding geeft dus aan dat een variabele (of veld, of de returnwaarde van een methode) die voor een `.` staat, een null-waarde geeft. In dit geval is de fout op de regel `Console.WriteLine(person.Name);`. In dit geval gaat het dus om `Console` of `person`. In dit codevoorbeeld is het heel duidelijk dat `person` null is, maar in complexere code zal dat niet altijd in 1 oogopslag duidelijk zijn. Als dit voorkomt, zijn er 2 dingen om 't op te lossen\n",
    "- De waarde zou geen null moeten zijn. Dit los je op door op te zoeken in de code waar er een waarde in de variabele gezet zou moeten worden. Meestal ben je vergeten om ergens een `= new Person()` te doen\n",
    "- De waarde zou null moeten kunnen zijn. In dat geval kun je een `if` voor het gebruik zetten\n",
    "  ```cs\n",
    "  if(person != null)\n",
    "  {\n",
    "    Console.WriteLine(person.Name);\n",
    "  }\n",
    "  ```\n",
    "  Dit is natuurlijk niet overal het geval, dus ga niet je hele code volzetten met dit soort if-statements, dit is alleen om rekening te houden met variabelen die (not) niet gevuld zijn"
   ]
  },
  {
   "cell_type": "markdown",
   "metadata": {},
   "source": [
    "## ToString\n",
    "\n",
    "De methode `ToString()` is een handige functie in C# die je kunt gebruiken om iets om te zetten naar een tekst (string). Omdat elk object in C# standaard een `ToString()`-functie heeft, kun je deze bijna altijd gebruiken."
   ]
  },
  {
   "cell_type": "code",
   "execution_count": null,
   "metadata": {
    "dotnet_interactive": {
     "language": "csharp"
    },
    "polyglot_notebook": {
     "kernelName": "csharp"
    }
   },
   "outputs": [],
   "source": [
    "int nummer = 123;\n",
    "Console.WriteLine(nummer.ToString()); // Geeft \"123\" als tekst"
   ]
  },
  {
   "cell_type": "markdown",
   "metadata": {},
   "source": [
    "Als je `ToString` gebruikt op een object (bijvoorbeeld een zelfgemaakte klasse), krijg je standaard de naam van het type te zien:"
   ]
  },
  {
   "cell_type": "code",
   "execution_count": null,
   "metadata": {
    "dotnet_interactive": {
     "language": "csharp"
    },
    "polyglot_notebook": {
     "kernelName": "csharp"
    }
   },
   "outputs": [],
   "source": [
    "class Auto {}\n",
    "\n",
    "Auto mijnAuto = new Auto();\n",
    "Console.WriteLine(mijnAuto.ToString()); // Geeft zoiets als \"Namespace.Auto\""
   ]
  },
  {
   "cell_type": "markdown",
   "metadata": {},
   "source": [
    "### Een eigen `ToString` nethode\n",
    "Soms wil je dat je zelfgemaakte objecten iets nuttigers laten zien. Dit kun je doen door de `ToString`-functie in je klasse aan te passen. Dit heet **overschrijven** en gaan we later dieper op in.\n",
    "\n",
    "Voorbeeld:"
   ]
  },
  {
   "cell_type": "code",
   "execution_count": null,
   "metadata": {
    "dotnet_interactive": {
     "language": "csharp"
    },
    "polyglot_notebook": {
     "kernelName": "csharp"
    }
   },
   "outputs": [],
   "source": [
    "class Auto\n",
    "{\n",
    "    public string Merk { get; set; }\n",
    "    public string Model { get; set; }\n",
    "\n",
    "    public override string ToString()\n",
    "    {\n",
    "        return $\"Merk: {Merk}, Model: {Model}\";\n",
    "    }\n",
    "}\n",
    "\n",
    "Auto mijnAuto = new Auto { Merk = \"Tesla\", Model = \"Model 3\" };\n",
    "Console.WriteLine(mijnAuto.ToString()); // Geeft \"Merk: Tesla, Model: Model 3\"\n"
   ]
  },
  {
   "cell_type": "markdown",
   "metadata": {},
   "source": [
    "### Waarom is `ToString` handig?\n",
    "- **Omzetten naar tekst**: Je kunt getallen, objecten of andere dingen gemakkelijk als tekst weergeven.\n",
    "- **Beter leesbaar maken**: Door `ToString` aan te passen, kun je zelf bepalen wat er getoond wordt als iemand jouw object als tekst wil zien.\n",
    "- **Automatisch gebruik in tekst**: Als je iets gebruikt in een tekst (bijvoorbeeld via `Console.WriteLine` of een string), wordt `ToString` automatisch aangeroepen.\n",
    "  Voorbeeld:\n",
    "  ```csharp\n",
    "  int jaar = 2024;\n",
    "  Console.WriteLine($\"Het jaar is {jaar}\"); // Roept automatisch jaar.ToString() aan\n",
    "  ```"
   ]
  },
  {
   "cell_type": "markdown",
   "metadata": {},
   "source": [
    "## Property-initialisatie zonder constructor\n",
    "\n",
    "Het is in C# ook mogelijk (en vrij gebruikelijk) om een object te maken van een klasse, waarbij de properties zonder constructor worden geinialiseerd. Dit doen we met de volgende syntax:"
   ]
  },
  {
   "cell_type": "code",
   "execution_count": null,
   "metadata": {
    "dotnet_interactive": {
     "language": "csharp"
    },
    "polyglot_notebook": {
     "kernelName": "csharp"
    }
   },
   "outputs": [],
   "source": [
    "class Person\n",
    "{\n",
    "    public string FirstName { get; set; }\n",
    "}\n",
    "\n",
    "Person person = new Person()\n",
    "{\n",
    "    FirstName = \"Johan\"\n",
    "};\n",
    "\n",
    "Person person2 = new Person()\n",
    "{\n",
    "    FirstName = \"Johan\",\n",
    "    //LastName = \"....\",\n",
    "    //OtherProperty = ...,\n",
    "};"
   ]
  },
  {
   "cell_type": "markdown",
   "metadata": {},
   "source": [
    "Hierbij kun je alleen de publieke properties instellen. Op deze manier kunnen de properties flexibel ingesteld worden, er hoeft niet voor iedere combinatie van properties een constructor aangemaakt worden. Het is hierbij niet af te dwingen dat een property geinitialiseerd word zoals met een constructor. Het is mogelijk meerdere properties te initialiseren, door deze na elkaar te zetten met een `,` ertussen. Je mag op het einde ook een losse komma zetten, zonder dat er nog een initializer na komt"
   ]
  },
  {
   "cell_type": "markdown",
   "metadata": {},
   "source": [
    "## Andere vorm van constructor\n",
    "\n",
    "Het is in C# ook mogelijk om een kortere notatie te gebruiken voor de constructor. Bij deze verkorte notatie gebruik je alleen `new()`, en kun je de naam van de klasse overslaan. Dit kan alleen als het type van de variabele wel beschreven staat (het is alleen een verkorte notatie, de code doet precies hetzelfde)"
   ]
  },
  {
   "cell_type": "code",
   "execution_count": null,
   "metadata": {
    "dotnet_interactive": {
     "language": "csharp"
    },
    "polyglot_notebook": {
     "kernelName": "csharp"
    }
   },
   "outputs": [],
   "source": [
    "Person person = new();"
   ]
  },
  {
   "cell_type": "markdown",
   "metadata": {},
   "source": [
    "Deze verkorte notatie kun je tegenkomen en gebruiken. In deze code is het datatype van person duidelijk (person), dus kan er met new() een nieuw object aangemaakt worden. Hierdoor is de code minder expliciet, en sneller te typen"
   ]
  },
  {
   "cell_type": "markdown",
   "metadata": {},
   "source": [
    "## Waarom gebruiken we nu klassen?\n",
    "\n",
    "- Het is mogelijk om data bij elkaar te groeperen in logische groepen.  \n",
    "  In periode 1 hadden we bijvoorbeeld een energiemeting, en voor 1 moment hadden we de meting, de tijd van de meting, de prijs op dat moment, etc. Door deze in een klasse te zetten, weten we welke waarden bij elkaar horen, en hoeven we maar 1 lijst bij te houden\n",
    "- Het is mogelijk om functionaliteit op te splitsen  \n",
    "  Doordat de code in meerdere klassen staat, heb je niet 1 groot bestand om in te werken. Dit is beter om samen te werken met GIT, geeft minder kans op fouten (je kunt zien waar aanpassingen zijn in GIT), geeft een beter overzicht van de structuur\n",
    "- Code is modulairder  \n",
    "  Bij een goed ontwerp is het makkelijk om code in klassen uit te breiden, door nieuwe klassen toe te voegen. Hierbij hoeft er maar weinig tot niets aangepast worden in de rest van de code om nieuwe functionaliteiten toe te voegen\n",
    "- Het is mogelijk om de functionaliteit op een logische plek te zetten  \n",
    "  Code over een persoon staat in de klasse Person, en het is voor mensen die de code niet hebben geschreven vaak makkelijker te zien hoe de code werkt\n",
    "- Het is mogelijk om een abstractie te maken en aan te bieden aan anderen  \n",
    "  Je kunt bijvoorbeeld een Robot-klasse maken met een methode om een wiel aan te sturen. Hoe dit dan daarna intern gebeurt, hoeft de gebruiker van de klasse niet te weten, alleen de goede methode aan te roepen\n",
    "\n",
    "Hierna volgen een aantal voorbeelden waarin bijvoorbeeld data gegroepeerd word, en functionaliteit op de juiste plek beland. Deze voorbeelden geven een beeld waar je klassen en objecten voor kunt gebruiken"
   ]
  },
  {
   "cell_type": "markdown",
   "metadata": {},
   "source": [
    "## Voorbeelden"
   ]
  },
  {
   "cell_type": "markdown",
   "metadata": {},
   "source": [
    "### Auto-ongelukken (klassen voor data)\n",
    "\n",
    "We gaan in deze opdracht een programma schrijven dat een aantal bestuurders en auto-ongelukken kan opslaan en verschillende algoritmes over kan berekenen. Dit modelleren we uit in een aantal klassen. Uiteindelijk is het doel om informatie over bestuurders, en ongelukken op te kunnen slaan, en uiteindelijk te kunnen bepalen welke bestuurder de meeste ongelukken heeft gehad, welke auto de meeste ongelukken heeft gehad, en waar de meeste ongelukken zijn geweest. Omdat we voor 3 dingen een maximum willen bepalen, kunnen we dit niet zomaar in 1 lijst opslaan. Door alles in 1 lijst op te slaan, slaan we gegevens dubbel op. Dit noemen we ook wel data redudancy, en willen we voorkomen.\n",
    "\n",
    "We beginnen met de basisstructuur van de verschillende klassen om gegevens in op te slaan"
   ]
  },
  {
   "cell_type": "code",
   "execution_count": null,
   "metadata": {
    "dotnet_interactive": {
     "language": "csharp"
    },
    "polyglot_notebook": {
     "kernelName": "csharp"
    }
   },
   "outputs": [],
   "source": [
    "public class Driver\n",
    "{\n",
    "    public string Name { get; set; }\n",
    "    public int Age { get; set; }\n",
    "    public List<Car> Cars {get; set;} = new();\n",
    "}\n",
    "public class Car\n",
    "{\n",
    "    public string Brand {get; set;}\n",
    "    public string Type {get; set;}\n",
    "}\n",
    "public class Accident\n",
    "{\n",
    "    public Car Car {get; set;}\n",
    "    public Driver Driver {get; set;}\n",
    "    public string Location {get; set;}\n",
    "}"
   ]
  },
  {
   "cell_type": "markdown",
   "metadata": {},
   "source": [
    "Hiermee definieren we de basis van onze klasses, de data die we gaan opslaan. We kunnen dit natuurlijk ook in een diagram laten voorstellen. Hierin is duidelijk de relatie tussen de verschillende entiteiten te zien.\n",
    "\n",
    "```mermaid\n",
    "classDiagram\n",
    "direction LR:\n",
    "class Driver {\n",
    "    string Name\n",
    "    int Age\n",
    "    List<Car> Cars\n",
    "}\n",
    "class Car {\n",
    "    string Brand\n",
    "    string Type\n",
    "}\n",
    "class Accident {\n",
    "    Car Car\n",
    "    Driver Driver\n",
    "    string Location\n",
    "}\n",
    "\n",
    "Accident --> Car\n",
    "Accident --> Driver\n",
    "Driver --> Car\n",
    "```\n",
    "Dit kunnen we gaan gebruiken, maar daar hebben we eerst wat data voor nodig. Deze data kunnen we niet in deze klassen zelf opslaan, maar moeten we daar buiten opslaan. Dit doe je normaal gesproken in een main-klasse, of in de hoofdmethode van je applicatie. Hierbij moet je opletten dat er afhankelijkheden zijn voor het opbouwen van de data. Een Driver kan niet gemaakt worden zonder auto's, en een accident heeft een auto en een bestuurder nodig."
   ]
  },
  {
   "cell_type": "code",
   "execution_count": null,
   "metadata": {
    "dotnet_interactive": {
     "language": "csharp"
    },
    "polyglot_notebook": {
     "kernelName": "csharp"
    }
   },
   "outputs": [],
   "source": [
    "List<Driver> Drivers = new();\n",
    "List<Car> Cars = new();\n",
    "List<Accident> Accidents = new();\n",
    "\n",
    "void BuildData()\n",
    "{\n",
    "    Drivers = new();\n",
    "    Cars = new();\n",
    "    Accidents = new();\n",
    "\n",
    "    Cars.Add(new Car() {Brand=\"Volkswagen\", Type=\"Polo\"});\n",
    "    Cars.Add(new Car() {Brand=\"Volkswagen\", Type=\"Tayron\"});\n",
    "    Cars.Add(new Car() {Brand=\"Volkswagen\", Type=\"Taigo\"});\n",
    "\n",
    "    Cars.Add(new Car() {Brand=\"Seat\", Type=\"Ibiza\"});\n",
    "    Cars.Add(new Car() {Brand=\"Seat\", Type=\"Arona\"});\n",
    "    Cars.Add(new Car() {Brand=\"Seat\", Type=\"Leon\"});\n",
    "\n",
    "    Drivers.Add(new Driver() { Name = \"Bram Braam\", Age = 30, Cars = [ Cars[0] ] });\n",
    "    Drivers.Add(new Driver() { Name = \"Edo Schaap\", Age = 40, Cars = [ Cars[1] ] });\n",
    "    Drivers.Add(new Driver() { Name = \"Wout Moes\", Age = 35, Cars = [ Cars[4], Cars[5] ] });\n",
    "    Drivers.Add(new Driver() { Name = \"Eelco van Driel\", Age = 25, Cars = [ Cars[4], Cars[3]] });\n",
    "    Drivers.Add(new Driver() { Name = \"Claire Vries\", Age = 55, Cars = [ Cars[5] ] });\n",
    "\n",
    "    Accidents.Add(new Accident() {Car = Cars[0], Driver = Drivers[0], Location = \"A27\"});\n",
    "    Accidents.Add(new Accident() {Car = Cars[1], Driver = Drivers[1], Location = \"A58\"});\n",
    "    Accidents.Add(new Accident() {Car = Cars[4], Driver = Drivers[2], Location = \"A59\"});\n",
    "    Accidents.Add(new Accident() {Car = Cars[5], Driver = Drivers[2], Location = \"A27\"});\n",
    "    Accidents.Add(new Accident() {Car = Cars[4], Driver = Drivers[2], Location = \"A58\"});\n",
    "    Accidents.Add(new Accident() {Car = Cars[5], Driver = Drivers[3], Location = \"A59\"});\n",
    "}\n",
    "BuildData();"
   ]
  },
  {
   "cell_type": "markdown",
   "metadata": {},
   "source": [
    "Voor dit notebook zetten we dit in een losse methode, zodat we na het toevoegen van functionaliteiten makkelijk de lijst opnieuw kunnen opbouwen. Daarnaast gebruiken we de indices in de verschillende arrays om te refereren. Dit is voor voorbeelddata geen probleem, en zal in de uiteindelijke applicatie aangepast kunnen worden vanuit een GUI.\n",
    "\n",
    "We kunnen nu bijvoorbeeld vragen gaan beantwoorden over deze data, zoals \"welke bestuurder is het meest betrokken bij ongelukken\". Dit kan met verschillende algoritmes berekend worden, maar een simpel algoritme is door door alle bestuurders te lopen, en bij iedere bestuurder te berekenen bij hoeveel ongelukken ze zijn betrokken. Hierbij kunnen we bijhouden welke bestuurder deze waarde het hoogste is"
   ]
  },
  {
   "cell_type": "code",
   "execution_count": null,
   "metadata": {
    "dotnet_interactive": {
     "language": "csharp"
    },
    "polyglot_notebook": {
     "kernelName": "csharp"
    }
   },
   "outputs": [],
   "source": [
    "BuildData();\n",
    "int maxAccidents = 0;\n",
    "Driver maxDriver = Drivers[0]; // werkt alleen als er drivers zijn\n",
    "foreach(var driver in Drivers)\n",
    "{\n",
    "    int accidents = 0;\n",
    "    foreach(var accident in Accidents)\n",
    "    {\n",
    "        if(accident.Driver == driver)\n",
    "        {\n",
    "            accidents++;\n",
    "        }\n",
    "    }\n",
    "    if(accidents > maxAccidents)\n",
    "    {\n",
    "        maxDriver = driver;\n",
    "        maxAccidents = accidents;\n",
    "    }\n",
    "}\n",
    "\n",
    "Console.WriteLine($\"{maxDriver.Name} heeft de grootste hoeveelheid ongelukken gehad\");"
   ]
  },
  {
   "cell_type": "markdown",
   "metadata": {},
   "source": [
    "### Planten water geven\n",
    "\n",
    "We gaan een systeem maken om bij te houden welke planten in huis wanneer water nodig hebben, zodat we de planten op tijd water geven. Over het algemeen hebben sommige soorten planten meer of minder water nodig. Zo heeft een cactus misschien 1x per maand water nodig, en een Ficus iedere week. Stel dat je een huis hebt met een aantal dezelfde en een aantal verschillende planten, kan het al snel lastig worden om bij te houden wanneer welke plant water moet hebben. \n",
    "\n",
    "Om dit systeem te versimpelen, gaan we geen gebruik maken van een `DateTime` om bij te houden wanneer welke plant water moet hebben, maar we houden gebruiken hier een `Day` teller voor, die iedere dag oploopt. Daarnaast maken we een kleine commandline interface om dit systeem aan te sturen.\n",
    "\n",
    "Als we de tekst hierboven doornemen, komen we uit op een klasse `Species` en een klasse `Plant`, waarbij de `Species` de soort plant is, en aangeeft hoe de plant heet, en hoe vaak deze water moet krijgen. De `Plant` houd bij wanneer deze specifieke plant water heeft gehad. \n",
    "\n",
    "Daarbij komt er een console-gebruikersinterface waarmee we de species en planten kunnen bekijken en kunnen toevoegen, en we de tijd door kunnen laten gaan. Als bij het doorlopen van de tijd een plant water nodig heeft, komt er een bericht welke plant water nodig heeft. We kunnen dit samenvatten in het volgende klassendiagram. Dit systeem zetten we in een `Application` klasse, zodat we hier gemakkelijk in een klasse kunnen werken.\n",
    "\n",
    "Een eerste opzet van het klassediagram (zonder alle methoden) is\n",
    "\n",
    "```mermaid\n",
    "classDiagram\n",
    "    direction LR\n",
    "\n",
    "    class Application {\n",
    "        +List<Species> Species\n",
    "        +List<Plant> Plants\n",
    "        +int CurrentDay\n",
    "        +Run()\n",
    "    }\n",
    "\n",
    "    class Plant {\n",
    "        +Species Species\n",
    "        +int LastWateredAt\n",
    "    }\n",
    "\n",
    "    class Species {\n",
    "        +string Name\n",
    "        +int WateringInterval\n",
    "        +Species(string name, int waterInterval)\n",
    "    }\n",
    "\n",
    "    Application \"1\" --> \"*\" Species : manages\n",
    "    Application \"1\" --> \"*\" Plant : manages\n",
    "    Plant \"1\" --> \"1\" Species : has\n",
    "```\n",
    "De uitwerking hiervan is in video-vorm\n",
    "<iframe id=\"kaltura_player\" type=\"text/javascript\"  src='https://api.de.kaltura.com/p/10066/embedPlaykitJs/uiconf_id/23452529?iframeembed=true&entry_id=0_v9aj6ymq&config[provider]={\"widgetId\":\"0_xgez26ye\"}'  style=\"width: 608px;height: 402px;border: 0;\" allowfullscreen webkitallowfullscreen mozAllowFullScreen allow=\"autoplay *; fullscreen *; encrypted-media *\" sandbox=\"allow-forms allow-same-origin allow-scripts allow-top-navigation allow-pointer-lock allow-popups allow-modals allow-orientation-lock allow-popups-to-escape-sandbox allow-presentation allow-top-navigation-by-user-activation\" title=\"Kaltura Player\"></iframe>"
   ]
  },
  {
   "cell_type": "markdown",
   "metadata": {},
   "source": [
    "# Interfaces en Abstractie\n",
    "\n",
    "Een `interface` is een constructie in de programmeertaal om te forceren klassen bepaalde functionaliteiten te geven. In een klasse kunnen we definieren welke functionaliteit een klasse moet hebben, en daarna kunnen klassen deze functionaliteit implementeren. Daardoor is er de garantie dat een klasse deze functionaliteit heeft.\n",
    "\n",
    "Dat is een redelijk abstracte beschrijving, dus tijd voor een voorbeeld. We kunnen bijvoorbeeld een berichten-app maken, waar verschillende soorten berichten in komen, zoals sms en email. Deze willen we samen in 1 overzicht krijgen. We kunnen dan gaan nadenken over de functionaliteit die een SMS en een Email delen. We hebben allebei een afzender en een bericht, maar een email kan ook attachments hebben, en moet dus meer informatie bevatten. We kunnen de gezamelijke functionaliteit in een interface zetten"
   ]
  },
  {
   "cell_type": "code",
   "execution_count": null,
   "metadata": {
    "dotnet_interactive": {
     "language": "csharp"
    },
    "polyglot_notebook": {
     "kernelName": "csharp"
    }
   },
   "outputs": [],
   "source": [
    "public interface IMessage\n",
    "{\n",
    "    string GetSender();\n",
    "    string GetText();\n",
    "} "
   ]
  },
  {
   "cell_type": "markdown",
   "metadata": {},
   "source": [
    "Hierna kunnen we een aantal klassen maken, die deze interface *implementeren*. Dit doen we door de naam van de interface, na een :, achter de klassedefinitie te zetten"
   ]
  },
  {
   "cell_type": "code",
   "execution_count": null,
   "metadata": {
    "dotnet_interactive": {
     "language": "csharp"
    },
    "polyglot_notebook": {
     "kernelName": "csharp"
    }
   },
   "outputs": [],
   "source": [
    "public class SMS : IMessage\n",
    "{\n",
    "\n",
    "}"
   ]
  },
  {
   "cell_type": "markdown",
   "metadata": {},
   "source": [
    "Dit ziet er in een klassediagram uit met een grote open pijl\n",
    "\n",
    "```mermaid\n",
    "classDiagram\n",
    "\n",
    "class IMessage {\n",
    "    string GetSender()\n",
    "    string GetText()\n",
    "}\n",
    "class SMS\n",
    "class Email\n",
    "\n",
    "IMessage <|-- SMS\n",
    "IMessage <|-- Email\n",
    "```"
   ]
  },
  {
   "cell_type": "markdown",
   "metadata": {},
   "source": [
    "Deze klasse moet nu (van de compiler) deze methodes implementeren, anders komt er een foutmelding en kan de applicatie niet uitgevoerd worden. We kunnen deze klasse verder afmaken"
   ]
  },
  {
   "cell_type": "code",
   "execution_count": null,
   "metadata": {
    "dotnet_interactive": {
     "language": "csharp"
    },
    "polyglot_notebook": {
     "kernelName": "csharp"
    }
   },
   "outputs": [],
   "source": [
    "public class SMS : IMessage\n",
    "{\n",
    "    public string Sender { get; set; }\n",
    "    public string Text { get; set; }\n",
    "    public string GetSender() => Sender;\n",
    "    public string GetText() => Text;\n",
    "}\n",
    "\n",
    "public class Email : IMessage\n",
    "{\n",
    "    public string Sender { get; set; }\n",
    "    public string Text { get; set; }\n",
    "    public List<string> Attachments {get; set; } = new();\n",
    "\n",
    "    public string GetSender() => Sender;\n",
    "    public string GetText()\n",
    "    {\n",
    "        string returnValue = Text;\n",
    "        if(Attachments.Count > 0)\n",
    "        {\n",
    "            returnValue += \"Attachments: \" + string.Join(\", \", Attachments);\n",
    "        }\n",
    "        return returnValue;\n",
    "    }\n",
    "}\n",
    "\n",
    "\n",
    "SMS sms = new SMS()\n",
    "{\n",
    "    Sender = \"Docent\",\n",
    "    Text = \"Hallo\"\n",
    "};\n",
    "\n",
    "Email mail = new Email()\n",
    "{\n",
    "    Sender = \"Docent2\",\n",
    "    Text = \"Zie bijlage: \",\n",
    "    Attachments = [ \"Bijlage1.pdf\", \"Bijlage2.pdf\" ]\n",
    "};\n",
    "\n",
    "Console.WriteLine($\"SMS van {sms.GetSender()} met tekst {sms.GetText()}\"); \n",
    "Console.WriteLine($\"Email van {mail.GetSender()} met tekst {mail.GetText()}\"); "
   ]
  },
  {
   "cell_type": "markdown",
   "metadata": {},
   "source": [
    "Je ziet in bovenstaande voorbeeld dat de sms en mail iets anders doen in de methode GetText. De GetSender methode is in beide gevallen gelijk, maar zou ook een andere implementatie kunnen hebben (bijvoorbeeld emailadres+naam voor email, en telefoonnummer+naam voor SMS. In dit voorbeeld gebruiken we dus een interface om de gedeelde functionaliteit te beschrijven, maar dit voegt nog niet veel toe aan onze klassen. De kracht van een interface komt doordat de interface ook als variabeletype gebruikt kan worden, en we deze dus ook in lijsten kunnen gebruiken"
   ]
  },
  {
   "cell_type": "code",
   "execution_count": null,
   "metadata": {
    "dotnet_interactive": {
     "language": "csharp"
    },
    "polyglot_notebook": {
     "kernelName": "csharp"
    }
   },
   "outputs": [],
   "source": [
    "List<IMessage> Messages = [ sms, mail ];\n",
    "foreach(var message in Messages)\n",
    "{\n",
    "    Console.WriteLine($\"Bericht van {message.GetSender()}: {message.GetText()}\");\n",
    "}"
   ]
  },
  {
   "cell_type": "markdown",
   "metadata": {},
   "source": [
    "Op deze manier kunnen we de objecten allemaal op dezelfde manier aanspreken. Let op, het is alleen mogelijk om de methoden in de interface aan te spreken, en niet de properties die in de klassen zelf zitten, omdat er geen garanties zijn dat het variabeletype, het type van de interface is."
   ]
  },
  {
   "cell_type": "code",
   "execution_count": null,
   "metadata": {
    "dotnet_interactive": {
     "language": "csharp"
    },
    "polyglot_notebook": {
     "kernelName": "csharp"
    }
   },
   "outputs": [],
   "source": [
    "IMessage message = new SMS() { Sender = \"Johan\", Text = \"Hallo\" };\n",
    "Console.WriteLine(message.Text); // dit kan niet, omdat IMessage geen Text heeft, alleen de GetText()"
   ]
  },
  {
   "cell_type": "markdown",
   "metadata": {},
   "source": [
    "Dit forceert meteen ook een goed design, de code die specifiek is voor het type bericht, staat in de klasse die bij dat type bericht hoort\n",
    "\n",
    "\n",
    "\n",
    "Er is natuurlijk veel meer te leren over interfaces, maar dit begin is voor nu voldoende om toe te passen binnen het project. De basisprincipes van het maken en gebruiken van een interface zijn gemakkelijk zo te lezen, maar hebben veel implicaties voor je programmacode"
   ]
  }
 ],
 "metadata": {
  "kernelspec": {
   "display_name": ".NET (C#)",
   "language": "C#",
   "name": ".net-csharp"
  },
  "polyglot_notebook": {
   "kernelInfo": {
    "defaultKernelName": "csharp",
    "items": [
     {
      "aliases": [],
      "languageName": "csharp",
      "name": "csharp"
     }
    ]
   }
  }
 },
 "nbformat": 4,
 "nbformat_minor": 2
}
